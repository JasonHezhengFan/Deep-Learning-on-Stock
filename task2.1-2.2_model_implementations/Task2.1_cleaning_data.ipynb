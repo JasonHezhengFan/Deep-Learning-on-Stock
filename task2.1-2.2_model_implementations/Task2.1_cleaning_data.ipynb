{
 "cells": [
  {
   "cell_type": "code",
   "execution_count": 1,
   "metadata": {},
   "outputs": [],
   "source": [
    "import numpy as np\n",
    "import pandas as pd\n",
    "import matplotlib.pyplot as plt\n",
    "import torch\n",
    "import torch.nn as nn\n",
    "from torch.utils.data import Dataset\n",
    "from torch.autograd import Variable"
   ]
  },
  {
   "cell_type": "code",
   "execution_count": 2,
   "metadata": {
    "scrolled": true
   },
   "outputs": [
    {
     "data": {
      "text/html": [
       "<div>\n",
       "<style scoped>\n",
       "    .dataframe tbody tr th:only-of-type {\n",
       "        vertical-align: middle;\n",
       "    }\n",
       "\n",
       "    .dataframe tbody tr th {\n",
       "        vertical-align: top;\n",
       "    }\n",
       "\n",
       "    .dataframe thead th {\n",
       "        text-align: right;\n",
       "    }\n",
       "</style>\n",
       "<table border=\"1\" class=\"dataframe\">\n",
       "  <thead>\n",
       "    <tr style=\"text-align: right;\">\n",
       "      <th></th>\n",
       "      <th>stock_code</th>\n",
       "      <th>trade_date</th>\n",
       "      <th>factor_0</th>\n",
       "      <th>factor_1</th>\n",
       "      <th>factor_2</th>\n",
       "      <th>factor_3</th>\n",
       "      <th>factor_4</th>\n",
       "      <th>factor_5</th>\n",
       "      <th>factor_6</th>\n",
       "      <th>factor_7</th>\n",
       "      <th>...</th>\n",
       "      <th>factor_33</th>\n",
       "      <th>factor_34</th>\n",
       "      <th>factor_35</th>\n",
       "      <th>factor_36</th>\n",
       "      <th>factor_37</th>\n",
       "      <th>factor_38</th>\n",
       "      <th>factor_39</th>\n",
       "      <th>factor_40</th>\n",
       "      <th>factor_41</th>\n",
       "      <th>car_hs300_b30_d001</th>\n",
       "    </tr>\n",
       "  </thead>\n",
       "  <tbody>\n",
       "    <tr>\n",
       "      <th>0</th>\n",
       "      <td>000001.SZ</td>\n",
       "      <td>2013-01-04</td>\n",
       "      <td>0.007966</td>\n",
       "      <td>0.024510</td>\n",
       "      <td>0.032475</td>\n",
       "      <td>-8.0</td>\n",
       "      <td>-0.114170</td>\n",
       "      <td>0.03</td>\n",
       "      <td>0.440203</td>\n",
       "      <td>-0.376429</td>\n",
       "      <td>...</td>\n",
       "      <td>0.790698</td>\n",
       "      <td>0.724551</td>\n",
       "      <td>0.812212</td>\n",
       "      <td>20.869800</td>\n",
       "      <td>43.5275</td>\n",
       "      <td>0.741100</td>\n",
       "      <td>0.680235</td>\n",
       "      <td>1.57469</td>\n",
       "      <td>3.43924</td>\n",
       "      <td>1</td>\n",
       "    </tr>\n",
       "    <tr>\n",
       "      <th>1</th>\n",
       "      <td>000001.SZ</td>\n",
       "      <td>2013-01-07</td>\n",
       "      <td>0.023154</td>\n",
       "      <td>0.006258</td>\n",
       "      <td>0.029412</td>\n",
       "      <td>-7.0</td>\n",
       "      <td>-0.589069</td>\n",
       "      <td>-0.31</td>\n",
       "      <td>0.129240</td>\n",
       "      <td>-0.840631</td>\n",
       "      <td>...</td>\n",
       "      <td>0.856688</td>\n",
       "      <td>0.909091</td>\n",
       "      <td>0.841909</td>\n",
       "      <td>18.507200</td>\n",
       "      <td>41.6409</td>\n",
       "      <td>0.741100</td>\n",
       "      <td>0.704779</td>\n",
       "      <td>1.47261</td>\n",
       "      <td>3.15030</td>\n",
       "      <td>0</td>\n",
       "    </tr>\n",
       "    <tr>\n",
       "      <th>2</th>\n",
       "      <td>000001.SZ</td>\n",
       "      <td>2013-01-08</td>\n",
       "      <td>0.004295</td>\n",
       "      <td>0.026994</td>\n",
       "      <td>0.031288</td>\n",
       "      <td>-5.0</td>\n",
       "      <td>-0.150607</td>\n",
       "      <td>0.30</td>\n",
       "      <td>0.957488</td>\n",
       "      <td>-0.160806</td>\n",
       "      <td>...</td>\n",
       "      <td>0.676724</td>\n",
       "      <td>0.727273</td>\n",
       "      <td>0.786972</td>\n",
       "      <td>20.082300</td>\n",
       "      <td>29.5337</td>\n",
       "      <td>0.605634</td>\n",
       "      <td>0.705782</td>\n",
       "      <td>1.48008</td>\n",
       "      <td>3.02077</td>\n",
       "      <td>0</td>\n",
       "    </tr>\n",
       "    <tr>\n",
       "      <th>3</th>\n",
       "      <td>000001.SZ</td>\n",
       "      <td>2013-01-09</td>\n",
       "      <td>0.003759</td>\n",
       "      <td>0.010025</td>\n",
       "      <td>0.013784</td>\n",
       "      <td>-3.0</td>\n",
       "      <td>-0.836842</td>\n",
       "      <td>0.14</td>\n",
       "      <td>0.802262</td>\n",
       "      <td>-0.532596</td>\n",
       "      <td>...</td>\n",
       "      <td>0.632231</td>\n",
       "      <td>0.642424</td>\n",
       "      <td>0.759596</td>\n",
       "      <td>8.662940</td>\n",
       "      <td>27.9438</td>\n",
       "      <td>0.536232</td>\n",
       "      <td>0.699468</td>\n",
       "      <td>1.47922</td>\n",
       "      <td>3.01475</td>\n",
       "      <td>0</td>\n",
       "    </tr>\n",
       "    <tr>\n",
       "      <th>4</th>\n",
       "      <td>000001.SZ</td>\n",
       "      <td>2013-01-10</td>\n",
       "      <td>0.015132</td>\n",
       "      <td>0.004414</td>\n",
       "      <td>0.019546</td>\n",
       "      <td>-1.0</td>\n",
       "      <td>-0.565992</td>\n",
       "      <td>-0.01</td>\n",
       "      <td>0.452223</td>\n",
       "      <td>-0.712085</td>\n",
       "      <td>...</td>\n",
       "      <td>0.629167</td>\n",
       "      <td>0.516667</td>\n",
       "      <td>0.628788</td>\n",
       "      <td>12.206900</td>\n",
       "      <td>27.2890</td>\n",
       "      <td>0.520000</td>\n",
       "      <td>0.690864</td>\n",
       "      <td>1.51058</td>\n",
       "      <td>3.06918</td>\n",
       "      <td>1</td>\n",
       "    </tr>\n",
       "    <tr>\n",
       "      <th>...</th>\n",
       "      <td>...</td>\n",
       "      <td>...</td>\n",
       "      <td>...</td>\n",
       "      <td>...</td>\n",
       "      <td>...</td>\n",
       "      <td>...</td>\n",
       "      <td>...</td>\n",
       "      <td>...</td>\n",
       "      <td>...</td>\n",
       "      <td>...</td>\n",
       "      <td>...</td>\n",
       "      <td>...</td>\n",
       "      <td>...</td>\n",
       "      <td>...</td>\n",
       "      <td>...</td>\n",
       "      <td>...</td>\n",
       "      <td>...</td>\n",
       "      <td>...</td>\n",
       "      <td>...</td>\n",
       "      <td>...</td>\n",
       "      <td>...</td>\n",
       "    </tr>\n",
       "    <tr>\n",
       "      <th>5088415</th>\n",
       "      <td>603999.SH</td>\n",
       "      <td>2019-12-13</td>\n",
       "      <td>0.063063</td>\n",
       "      <td>0.007508</td>\n",
       "      <td>0.070571</td>\n",
       "      <td>-9.0</td>\n",
       "      <td>-0.875646</td>\n",
       "      <td>-0.32</td>\n",
       "      <td>0.138746</td>\n",
       "      <td>-0.876772</td>\n",
       "      <td>...</td>\n",
       "      <td>0.542857</td>\n",
       "      <td>0.855769</td>\n",
       "      <td>0.822900</td>\n",
       "      <td>1.148900</td>\n",
       "      <td>20.9302</td>\n",
       "      <td>0.029940</td>\n",
       "      <td>0.307711</td>\n",
       "      <td>1.14262</td>\n",
       "      <td>3.09775</td>\n",
       "      <td>1</td>\n",
       "    </tr>\n",
       "    <tr>\n",
       "      <th>5088416</th>\n",
       "      <td>603999.SH</td>\n",
       "      <td>2019-12-16</td>\n",
       "      <td>0.038682</td>\n",
       "      <td>0.007163</td>\n",
       "      <td>0.045845</td>\n",
       "      <td>-9.0</td>\n",
       "      <td>-0.880784</td>\n",
       "      <td>-0.18</td>\n",
       "      <td>0.306574</td>\n",
       "      <td>-0.751634</td>\n",
       "      <td>...</td>\n",
       "      <td>0.583333</td>\n",
       "      <td>0.884298</td>\n",
       "      <td>0.811730</td>\n",
       "      <td>0.782227</td>\n",
       "      <td>27.0718</td>\n",
       "      <td>0.187879</td>\n",
       "      <td>0.276938</td>\n",
       "      <td>1.04110</td>\n",
       "      <td>2.77682</td>\n",
       "      <td>0</td>\n",
       "    </tr>\n",
       "    <tr>\n",
       "      <th>5088417</th>\n",
       "      <td>603999.SH</td>\n",
       "      <td>2019-12-17</td>\n",
       "      <td>0.002821</td>\n",
       "      <td>0.016925</td>\n",
       "      <td>0.019746</td>\n",
       "      <td>-8.0</td>\n",
       "      <td>-0.854110</td>\n",
       "      <td>0.11</td>\n",
       "      <td>0.863933</td>\n",
       "      <td>-0.479172</td>\n",
       "      <td>...</td>\n",
       "      <td>0.654971</td>\n",
       "      <td>0.778761</td>\n",
       "      <td>0.839609</td>\n",
       "      <td>0.342224</td>\n",
       "      <td>29.0801</td>\n",
       "      <td>0.298013</td>\n",
       "      <td>0.260858</td>\n",
       "      <td>1.04584</td>\n",
       "      <td>2.66659</td>\n",
       "      <td>0</td>\n",
       "    </tr>\n",
       "    <tr>\n",
       "      <th>5088418</th>\n",
       "      <td>603999.SH</td>\n",
       "      <td>2019-12-18</td>\n",
       "      <td>0.010029</td>\n",
       "      <td>0.012894</td>\n",
       "      <td>0.022923</td>\n",
       "      <td>-7.0</td>\n",
       "      <td>-0.733061</td>\n",
       "      <td>0.04</td>\n",
       "      <td>0.511944</td>\n",
       "      <td>-0.716503</td>\n",
       "      <td>...</td>\n",
       "      <td>0.670659</td>\n",
       "      <td>0.736364</td>\n",
       "      <td>0.799807</td>\n",
       "      <td>0.391114</td>\n",
       "      <td>29.2537</td>\n",
       "      <td>0.324324</td>\n",
       "      <td>0.252109</td>\n",
       "      <td>1.07986</td>\n",
       "      <td>2.67018</td>\n",
       "      <td>1</td>\n",
       "    </tr>\n",
       "    <tr>\n",
       "      <th>5088419</th>\n",
       "      <td>603999.SH</td>\n",
       "      <td>2019-12-19</td>\n",
       "      <td>0.100575</td>\n",
       "      <td>0.008621</td>\n",
       "      <td>0.109195</td>\n",
       "      <td>-7.0</td>\n",
       "      <td>-0.902884</td>\n",
       "      <td>-0.70</td>\n",
       "      <td>0.019272</td>\n",
       "      <td>-0.962701</td>\n",
       "      <td>...</td>\n",
       "      <td>0.777778</td>\n",
       "      <td>1.000000</td>\n",
       "      <td>0.838375</td>\n",
       "      <td>1.857790</td>\n",
       "      <td>40.8740</td>\n",
       "      <td>0.574257</td>\n",
       "      <td>0.265855</td>\n",
       "      <td>1.21668</td>\n",
       "      <td>2.20963</td>\n",
       "      <td>1</td>\n",
       "    </tr>\n",
       "  </tbody>\n",
       "</table>\n",
       "<p>5088420 rows × 45 columns</p>\n",
       "</div>"
      ],
      "text/plain": [
       "        stock_code  trade_date  factor_0  factor_1  factor_2  factor_3  \\\n",
       "0        000001.SZ  2013-01-04  0.007966  0.024510  0.032475      -8.0   \n",
       "1        000001.SZ  2013-01-07  0.023154  0.006258  0.029412      -7.0   \n",
       "2        000001.SZ  2013-01-08  0.004295  0.026994  0.031288      -5.0   \n",
       "3        000001.SZ  2013-01-09  0.003759  0.010025  0.013784      -3.0   \n",
       "4        000001.SZ  2013-01-10  0.015132  0.004414  0.019546      -1.0   \n",
       "...            ...         ...       ...       ...       ...       ...   \n",
       "5088415  603999.SH  2019-12-13  0.063063  0.007508  0.070571      -9.0   \n",
       "5088416  603999.SH  2019-12-16  0.038682  0.007163  0.045845      -9.0   \n",
       "5088417  603999.SH  2019-12-17  0.002821  0.016925  0.019746      -8.0   \n",
       "5088418  603999.SH  2019-12-18  0.010029  0.012894  0.022923      -7.0   \n",
       "5088419  603999.SH  2019-12-19  0.100575  0.008621  0.109195      -7.0   \n",
       "\n",
       "         factor_4  factor_5  factor_6  factor_7  ...  factor_33  factor_34  \\\n",
       "0       -0.114170      0.03  0.440203 -0.376429  ...   0.790698   0.724551   \n",
       "1       -0.589069     -0.31  0.129240 -0.840631  ...   0.856688   0.909091   \n",
       "2       -0.150607      0.30  0.957488 -0.160806  ...   0.676724   0.727273   \n",
       "3       -0.836842      0.14  0.802262 -0.532596  ...   0.632231   0.642424   \n",
       "4       -0.565992     -0.01  0.452223 -0.712085  ...   0.629167   0.516667   \n",
       "...           ...       ...       ...       ...  ...        ...        ...   \n",
       "5088415 -0.875646     -0.32  0.138746 -0.876772  ...   0.542857   0.855769   \n",
       "5088416 -0.880784     -0.18  0.306574 -0.751634  ...   0.583333   0.884298   \n",
       "5088417 -0.854110      0.11  0.863933 -0.479172  ...   0.654971   0.778761   \n",
       "5088418 -0.733061      0.04  0.511944 -0.716503  ...   0.670659   0.736364   \n",
       "5088419 -0.902884     -0.70  0.019272 -0.962701  ...   0.777778   1.000000   \n",
       "\n",
       "         factor_35  factor_36  factor_37  factor_38  factor_39  factor_40  \\\n",
       "0         0.812212  20.869800    43.5275   0.741100   0.680235    1.57469   \n",
       "1         0.841909  18.507200    41.6409   0.741100   0.704779    1.47261   \n",
       "2         0.786972  20.082300    29.5337   0.605634   0.705782    1.48008   \n",
       "3         0.759596   8.662940    27.9438   0.536232   0.699468    1.47922   \n",
       "4         0.628788  12.206900    27.2890   0.520000   0.690864    1.51058   \n",
       "...            ...        ...        ...        ...        ...        ...   \n",
       "5088415   0.822900   1.148900    20.9302   0.029940   0.307711    1.14262   \n",
       "5088416   0.811730   0.782227    27.0718   0.187879   0.276938    1.04110   \n",
       "5088417   0.839609   0.342224    29.0801   0.298013   0.260858    1.04584   \n",
       "5088418   0.799807   0.391114    29.2537   0.324324   0.252109    1.07986   \n",
       "5088419   0.838375   1.857790    40.8740   0.574257   0.265855    1.21668   \n",
       "\n",
       "         factor_41  car_hs300_b30_d001  \n",
       "0          3.43924                   1  \n",
       "1          3.15030                   0  \n",
       "2          3.02077                   0  \n",
       "3          3.01475                   0  \n",
       "4          3.06918                   1  \n",
       "...            ...                 ...  \n",
       "5088415    3.09775                   1  \n",
       "5088416    2.77682                   0  \n",
       "5088417    2.66659                   0  \n",
       "5088418    2.67018                   1  \n",
       "5088419    2.20963                   1  \n",
       "\n",
       "[5088420 rows x 45 columns]"
      ]
     },
     "execution_count": 2,
     "metadata": {},
     "output_type": "execute_result"
    }
   ],
   "source": [
    "#导入数据\n",
    "factor_df=pd.read_csv(\"/data01/data_for_intern/factor_data_13_19.csv\")\n",
    "return_df=pd.read_csv(\"/data01/data_for_intern/return_data_13_19.csv\")\n",
    "return_label=return_df.drop(columns=['return_adj_d001','return_adj_d005','car_hs300_b30_d005'])\n",
    "return_label['car_hs300_b30_d001']=(return_label['car_hs300_b30_d001']>=0)*1\n",
    "#利用内连接方式合并数据\n",
    "merged_factor_return = factor_df.merge(return_label,on=[\"stock_code\",\"trade_date\"],how=\"inner\")\n",
    "merged_factor_return"
   ]
  },
  {
   "cell_type": "code",
   "execution_count": 8,
   "metadata": {},
   "outputs": [
    {
     "data": {
      "text/plain": [
       "(1, 10, 42)"
      ]
     },
     "execution_count": 8,
     "metadata": {},
     "output_type": "execute_result"
    }
   ],
   "source": [
    "#举例\n",
    "temp=pd.DataFrame(merged_factor_return.loc[0:9]).drop(['stock_code','trade_date','car_hs300_b30_d001'],axis=1)\n",
    "temp=np.array(temp.values)\n",
    "train_data=temp.reshape(1,10,42)\n",
    "train_data.shape"
   ]
  },
  {
   "cell_type": "code",
   "execution_count": 9,
   "metadata": {},
   "outputs": [],
   "source": [
    "#dataframe预处理\n",
    "df=pd.DataFrame(merged_factor_return).drop(['trade_date','car_hs300_b30_d001'],axis=1)\n",
    "#筛选股票名称\n",
    "name=np.unique(merged_factor_return['stock_code'].values)"
   ]
  },
  {
   "cell_type": "code",
   "execution_count": 11,
   "metadata": {},
   "outputs": [
    {
     "ename": "KeyboardInterrupt",
     "evalue": "",
     "output_type": "error",
     "traceback": [
      "\u001b[0;31m---------------------------------------------------------------------------\u001b[0m",
      "\u001b[0;31mKeyboardInterrupt\u001b[0m                         Traceback (most recent call last)",
      "\u001b[0;32m<ipython-input-11-20c16660ac01>\u001b[0m in \u001b[0;36m<module>\u001b[0;34m\u001b[0m\n\u001b[1;32m     11\u001b[0m         \u001b[0mtemp\u001b[0m\u001b[0;34m=\u001b[0m\u001b[0mtemp_df\u001b[0m\u001b[0;34m.\u001b[0m\u001b[0miloc\u001b[0m\u001b[0;34m[\u001b[0m\u001b[0mi\u001b[0m\u001b[0;34m:\u001b[0m\u001b[0mi\u001b[0m\u001b[0;34m+\u001b[0m\u001b[0;36m10\u001b[0m\u001b[0;34m]\u001b[0m\u001b[0;34m\u001b[0m\u001b[0;34m\u001b[0m\u001b[0m\n\u001b[1;32m     12\u001b[0m         \u001b[0mtemp\u001b[0m\u001b[0;34m=\u001b[0m\u001b[0mnp\u001b[0m\u001b[0;34m.\u001b[0m\u001b[0marray\u001b[0m\u001b[0;34m(\u001b[0m\u001b[0mtemp\u001b[0m\u001b[0;34m.\u001b[0m\u001b[0mvalues\u001b[0m\u001b[0;34m)\u001b[0m\u001b[0;34m.\u001b[0m\u001b[0mreshape\u001b[0m\u001b[0;34m(\u001b[0m\u001b[0;36m1\u001b[0m\u001b[0;34m,\u001b[0m\u001b[0;36m10\u001b[0m\u001b[0;34m,\u001b[0m\u001b[0;36m42\u001b[0m\u001b[0;34m)\u001b[0m\u001b[0;34m\u001b[0m\u001b[0;34m\u001b[0m\u001b[0m\n\u001b[0;32m---> 13\u001b[0;31m         \u001b[0mtrain_data\u001b[0m\u001b[0;34m=\u001b[0m\u001b[0mnp\u001b[0m\u001b[0;34m.\u001b[0m\u001b[0mconcatenate\u001b[0m\u001b[0;34m(\u001b[0m\u001b[0;34m(\u001b[0m\u001b[0mtrain_data\u001b[0m\u001b[0;34m,\u001b[0m\u001b[0mtemp\u001b[0m\u001b[0;34m)\u001b[0m\u001b[0;34m,\u001b[0m\u001b[0maxis\u001b[0m\u001b[0;34m=\u001b[0m\u001b[0;36m0\u001b[0m\u001b[0;34m)\u001b[0m\u001b[0;34m\u001b[0m\u001b[0;34m\u001b[0m\u001b[0m\n\u001b[0m",
      "\u001b[0;32m<__array_function__ internals>\u001b[0m in \u001b[0;36mconcatenate\u001b[0;34m(*args, **kwargs)\u001b[0m\n",
      "\u001b[0;31mKeyboardInterrupt\u001b[0m: "
     ]
    }
   ],
   "source": [
    "#整理训练数据\n",
    "waste=[]\n",
    "for idx in name:\n",
    "    temp_df=df[df['stock_code']==idx]\n",
    "    bound=temp_df.shape[0]-300 #留300-10天记录作为valid_data和test_data\n",
    "    if bound<0:\n",
    "        waste.append(idx)\n",
    "        continue\n",
    "    temp_df=temp_df.drop(['stock_code'],axis=1)\n",
    "    for i in range(0,bound):\n",
    "        temp=temp_df.iloc[i:i+10]\n",
    "        temp=np.array(temp.values).reshape(1,10,42)\n",
    "        train_data=np.concatenate((train_data,temp),axis=0)"
   ]
  },
  {
   "cell_type": "code",
   "execution_count": 21,
   "metadata": {},
   "outputs": [
    {
     "data": {
      "text/plain": [
       "('000416.SZ', (468213, 10, 42))"
      ]
     },
     "execution_count": 21,
     "metadata": {},
     "output_type": "execute_result"
    }
   ],
   "source": [
    "idx,train_data.shape#'000820.SZ'"
   ]
  },
  {
   "cell_type": "code",
   "execution_count": 22,
   "metadata": {},
   "outputs": [],
   "source": [
    "np.save('new_train_data',train_data)"
   ]
  },
  {
   "cell_type": "code",
   "execution_count": 23,
   "metadata": {},
   "outputs": [
    {
     "data": {
      "text/plain": [
       "array(['000001.SZ', '000002.SZ', '000004.SZ', ..., '603997.SH',\n",
       "       '603998.SH', '603999.SH'], dtype=object)"
      ]
     },
     "execution_count": 23,
     "metadata": {},
     "output_type": "execute_result"
    }
   ],
   "source": [
    "clean_name = np.setdiff1d(name,waste)\n",
    "clean_name"
   ]
  },
  {
   "cell_type": "code",
   "execution_count": 24,
   "metadata": {},
   "outputs": [
    {
     "data": {
      "text/plain": [
       "(1, 10, 42)"
      ]
     },
     "execution_count": 24,
     "metadata": {},
     "output_type": "execute_result"
    }
   ],
   "source": [
    "#整理valid数据\n",
    "temp=pd.DataFrame(merged_factor_return.loc[1694-300:1403]).drop(['stock_code','trade_date','car_hs300_b30_d001'],axis=1)\n",
    "temp=np.array(temp.values)\n",
    "valid_data=temp.reshape(1,10,42)\n",
    "valid_data.shape"
   ]
  },
  {
   "cell_type": "code",
   "execution_count": 25,
   "metadata": {},
   "outputs": [],
   "source": [
    "for idx in clean_name:\n",
    "    if idx=='000820.SZ':\n",
    "        break\n",
    "    temp_df=df[df['stock_code']==idx]\n",
    "    bound=temp_df.shape[0]-300 #留300-10天记录作为valid_data和test_data\n",
    "    temp_df=temp_df.drop(['stock_code'],axis=1)\n",
    "    for i in range(bound,bound+150):\n",
    "        temp=temp_df.iloc[i:i+10]\n",
    "        temp=np.array(temp.values).reshape(1,10,42)\n",
    "        valid_data=np.concatenate((valid_data,temp),axis=0)"
   ]
  },
  {
   "cell_type": "code",
   "execution_count": 26,
   "metadata": {},
   "outputs": [],
   "source": [
    "#整理train_label\n",
    "train_label=np.zeros(1,)\n",
    "train_label[0]=merged_factor_return['car_hs300_b30_d001'].loc[10]\n",
    "waste_sec=[]\n",
    "for idx in name:\n",
    "    if idx=='000820.SZ':\n",
    "        break\n",
    "    temp_df=merged_factor_return[merged_factor_return['stock_code']==idx]\n",
    "    bound=temp_df.shape[0]-300 \n",
    "    if bound<0:\n",
    "        waste_sec.append(idx)\n",
    "        continue\n",
    "    for i in range(10,bound+10):\n",
    "        temp=np.array(temp_df['car_hs300_b30_d001'].iloc[i])\n",
    "        train_label=np.concatenate((train_label,temp.reshape(1,)),axis=0)"
   ]
  },
  {
   "cell_type": "code",
   "execution_count": 33,
   "metadata": {},
   "outputs": [],
   "source": [
    "#整理valid_label\n",
    "valid_label=np.zeros(1,)\n",
    "valid_label[0]=merged_factor_return['car_hs300_b30_d001'].loc[1404]\n",
    "for idx in clean_name:\n",
    "    if idx=='000820.SZ':\n",
    "        break\n",
    "    temp_df=merged_factor_return[merged_factor_return['stock_code']==idx]\n",
    "    bound=temp_df.shape[0]-320 \n",
    "    for i in range(bound+10,bound+160):\n",
    "        temp=np.array(temp_df['car_hs300_b30_d001'].iloc[i])\n",
    "        valid_label=np.concatenate((valid_label,temp.reshape(1,)),axis=0)"
   ]
  },
  {
   "cell_type": "code",
   "execution_count": 30,
   "metadata": {},
   "outputs": [],
   "source": [
    "np.save('new_valid_data',valid_data)\n",
    "np.save('new_train_label',train_label)\n",
    "np.save('new_valid_label',valid_label)"
   ]
  },
  {
   "cell_type": "code",
   "execution_count": 34,
   "metadata": {},
   "outputs": [
    {
     "data": {
      "text/plain": [
       "(51001,)"
      ]
     },
     "execution_count": 34,
     "metadata": {},
     "output_type": "execute_result"
    }
   ],
   "source": [
    "valid_label.shape"
   ]
  },
  {
   "cell_type": "code",
   "execution_count": 32,
   "metadata": {},
   "outputs": [
    {
     "data": {
      "text/plain": [
       "(51001, 10, 42)"
      ]
     },
     "execution_count": 32,
     "metadata": {},
     "output_type": "execute_result"
    }
   ],
   "source": [
    "valid_data.shape"
   ]
  },
  {
   "cell_type": "code",
   "execution_count": 35,
   "metadata": {},
   "outputs": [
    {
     "data": {
      "text/plain": [
       "(467644,)"
      ]
     },
     "execution_count": 35,
     "metadata": {},
     "output_type": "execute_result"
    }
   ],
   "source": [
    "train_label.shape"
   ]
  },
  {
   "cell_type": "code",
   "execution_count": 39,
   "metadata": {},
   "outputs": [],
   "source": [
    "np.save('new_train_data',train_data[0:train_label.shape[0],:,:])"
   ]
  },
  {
   "cell_type": "code",
   "execution_count": null,
   "metadata": {},
   "outputs": [],
   "source": []
  }
 ],
 "metadata": {
  "kernelspec": {
   "display_name": "Python 3",
   "language": "python",
   "name": "python3"
  },
  "language_info": {
   "codemirror_mode": {
    "name": "ipython",
    "version": 3
   },
   "file_extension": ".py",
   "mimetype": "text/x-python",
   "name": "python",
   "nbconvert_exporter": "python",
   "pygments_lexer": "ipython3",
   "version": "3.6.9"
  }
 },
 "nbformat": 4,
 "nbformat_minor": 4
}
